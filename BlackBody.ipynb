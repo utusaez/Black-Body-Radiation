{
 "cells": [
  {
   "cell_type": "code",
   "execution_count": 55,
   "id": "05b74257",
   "metadata": {},
   "outputs": [],
   "source": [
    "# Libraries\n",
    "\n",
    "import numpy as np \n",
    "import matplotlib.pyplot as plt\n",
    "from scipy.integrate import quad\n",
    "import ipywidgets as widgets\n",
    "import warnings"
   ]
  },
  {
   "cell_type": "code",
   "execution_count": 56,
   "id": "95c2d65e",
   "metadata": {},
   "outputs": [
    {
     "data": {
      "text/plain": [
       "{'divide': 'warn', 'over': 'ignore', 'under': 'ignore', 'invalid': 'warn'}"
      ]
     },
     "execution_count": 56,
     "metadata": {},
     "output_type": "execute_result"
    }
   ],
   "source": [
    "# This avoids warning messages caused by large exponential values\n",
    "warnings.filterwarnings(\"ignore\", category=RuntimeWarning)\n",
    "np.seterr(over='ignore')"
   ]
  },
  {
   "cell_type": "code",
   "execution_count": 57,
   "id": "951906db",
   "metadata": {},
   "outputs": [],
   "source": [
    "# Constants CGS\n",
    "c = 2.9979e10 # cm s^-1\n",
    "kb = 1.3806e-16 # erg K^-1\n",
    "h = 6.626e-27 # erg s^-1\n",
    "sigma = 5.6704e-5 # erg s^-1 cm^-2 K^-4"
   ]
  },
  {
   "cell_type": "code",
   "execution_count": 58,
   "id": "5ad60a17",
   "metadata": {},
   "outputs": [],
   "source": [
    "def planck_law(T):\n",
    "\n",
    "    \"\"\"\n",
    "    Calculates the Planck distribution function, describing the radiation emitted\n",
    "    by a black body as a function of the wavelength and temperature, expressed in nanometers.\n",
    "\n",
    "    PARAMETERS:\n",
    "        \n",
    "       T (float): Temperature of the black body in Kelvin\n",
    "    \n",
    "    RETURN:\n",
    "        tuple:\n",
    "\n",
    "        - wavelength (np.ndarray): Array of wavelenghts in nanometers.\n",
    "        - planck_function_nm (np.ndarray): Spectral energy density (erg·s⁻¹·cm⁻²·nm⁻¹) for\n",
    "        each wavelength\n",
    "\n",
    "    Note:\n",
    "\n",
    "        The internal function is calculated in CGS units and then is converted to nanometers multiplying by 1e-7.\n",
    "    \"\"\"\n",
    "\n",
    "    wavelength = np.linspace(1, 4000, 1000) #nm\n",
    "    wavelength_cm = wavelength*1e-7\n",
    "\n",
    "    planck_function = ((2*h*(c**2)) / (wavelength_cm**5)) * (1 / (np.exp((h*c)/(wavelength_cm*kb*T)) - 1))\n",
    "    planck_function_nm = planck_function*1e-7\n",
    "\n",
    "    return (wavelength, planck_function_nm)"
   ]
  },
  {
   "cell_type": "code",
   "execution_count": 59,
   "id": "daf53d7c",
   "metadata": {},
   "outputs": [],
   "source": [
    "def wien_law(T):\n",
    "\n",
    "    \"\"\"\n",
    "    Calculates the wavelength at which a black body emits maximun radiation at a given\n",
    "    temperature, using Wien's displacement law.\n",
    "\n",
    "    PARAMETERS:\n",
    "\n",
    "        T (float): Temperature of the black body in Kelvin\n",
    "    \n",
    "    RETURN:\n",
    "\n",
    "        float: wavelength (in nanometers) corresponding to the peak of emission.\n",
    "\n",
    "    Note:\n",
    "\n",
    "        The Wien's constant used is 0.2898 cm·K. The result is converted from cm to nm.\n",
    "    \"\"\"\n",
    "\n",
    "    lambda_max = 0.2898/T # cm\n",
    "    return lambda_max*1e7 # nm y K"
   ]
  },
  {
   "cell_type": "code",
   "execution_count": 60,
   "id": "67141617",
   "metadata": {},
   "outputs": [],
   "source": [
    "def energy(T):\n",
    "\n",
    "    \"\"\" \n",
    "    Calculates the total energy emitted per unit of area, per unit of time and per unit of surface\n",
    "    (energetic flux) by a black body at temperature T, by integrating the Planck's law expressed in \n",
    "    terms of an adimensional variable over the entire wavelength range.\n",
    "\n",
    "    PARAMETERS:\n",
    "\n",
    "        T (float): Temperature of the black body in Kelvin\n",
    "\n",
    "    RETURN:\n",
    "\n",
    "        float: Total energy integrated over all wavelengths, in erg·s⁻¹·cm⁻².\n",
    "\n",
    "    Notes:\n",
    "\n",
    "        - The integration uses the adimensional form of Planck's law, where the integration \n",
    "          variable x = (h*c) / (λ*k_B*T).\n",
    "        - The integral is performed from 0 to infinity in terms of x.\n",
    "        - The constant factor outside the integral converts the adimensional integral back to \n",
    "        physical units, assuming CGS units for constants.\n",
    "\n",
    "    \"\"\"\n",
    "    constant = (2*((kb*T)**4)) / ((h**3)*(c**2))\n",
    "    \n",
    "    def adimensional_function(x, T):\n",
    "\n",
    "        adimensional_function = (x**3) / (np.exp(x) - 1)\n",
    "        return adimensional_function\n",
    "\n",
    "    energy_planck, error_planck = quad(adimensional_function, 0, np.inf, args=(T,)) #erg cm^−2 s^−1\n",
    "    energy_planck = np.pi*constant*energy_planck\n",
    "\n",
    "    return energy_planck"
   ]
  },
  {
   "cell_type": "code",
   "execution_count": 61,
   "id": "e71b3704",
   "metadata": {},
   "outputs": [],
   "source": [
    "def percentage_energy(T, lmbda1, lmbda2):\n",
    "\n",
    "    \"\"\"\n",
    "    Calculates the percentage of the total flux emitted by a black body at temperature T \n",
    "    that lies within a specific wavelength range, using the adimensional form of Planck's law.\n",
    "\n",
    "    PARAMETERS:\n",
    "\n",
    "        - T (float): Temperature of the black body in Kelvin.\n",
    "        - lmbda1 (float): Lower limit of the wavelength in nanometers.\n",
    "        - lmbda2 (float): Upper limit of the wavelength in nanometers.\n",
    "\n",
    "    RETURN:\n",
    "\n",
    "        float: Percentage of total emitted flux that lies between lmbda1 and lmbda2 (in %).\n",
    "\n",
    "    Notes:\n",
    "\n",
    "        - The Planck function is expressed in terms of the adimensional variable \n",
    "          x = (h*c)/(λ*k_B*T), and the integration is performed over x1 to x2.\n",
    "        - The physical wavelength limits are converted to adimensional x-limits \n",
    "          before integration.\n",
    "        - The result is normalized with respect to the total flux computed from \n",
    "          the full integral (0 to infinity) in adimensional form.\n",
    "        - All constants are in CGS units, and the final result is a dimensionless \n",
    "          percentage. \n",
    "\n",
    "    \"\"\"\n",
    "\n",
    "    lmbda1_cm, lmbda2_cm = lmbda1*1e-7, lmbda2*1e-7\n",
    "\n",
    "    constant = (2*((kb*T)**4)) / ((h**3)*(c**2))\n",
    "    \n",
    "    def adimensional_function(x, T):\n",
    "\n",
    "        adimensional_function = (x**3) / (np.exp(x) - 1)\n",
    "        return adimensional_function\n",
    "    \n",
    "    x1 = (h*c) / (lmbda2_cm * kb * T) \n",
    "    x2 = (h*c) / (lmbda1_cm * kb * T)\n",
    "\n",
    "    energy_planck_range, error_planck_range = quad(adimensional_function, x1, x2, args=(T,)) #erg cm^−2 s^−1\n",
    "    \n",
    "    energy_fraction = (np.pi*constant*energy_planck_range / energy(T)) * 100\n",
    "    \n",
    "    return round(energy_fraction, 4)"
   ]
  },
  {
   "cell_type": "code",
   "execution_count": 62,
   "id": "d66109b5",
   "metadata": {},
   "outputs": [],
   "source": [
    "def plot_by_temperature(T):\n",
    "\n",
    "    \"\"\" \n",
    "    Plots the Planck's law at a given temperature and displays key information\n",
    "    about the black body spectrum corresponding to a star.\n",
    "\n",
    "    PARAMETERS:\n",
    "\n",
    "        - T (float): Temperature of the black body (star) in Kelvin.\n",
    "\n",
    "    Notes:\n",
    "\n",
    "        The function generates a plot of the spectral flux according to the Planck's law as\n",
    "        a function of wavelength (in nanometers) for a giventemperature T. Additionally:\n",
    "\n",
    "            - Shows the peak wavelength obtained using Wien's law\n",
    "            - Calculates and displays the total total emitted energy flux.\n",
    "            - Classifies the star approximately according to its spectral type (O, B, A, F, G, K, M).\n",
    "\n",
    "        The curve is expressed in CGS units:\n",
    "            - Wavelength in nanometers (nm)\n",
    "            - Flux in erg s⁻¹ cm⁻² cm⁻¹.\n",
    "    \"\"\"\n",
    "\n",
    "    if T >= 30000:\n",
    "        type_star = \"O\"\n",
    "    elif 30000 > T and T >= 10000:\n",
    "        type_star = \"B\"\n",
    "    elif 10000 > T and T >= 7500:\n",
    "        type_star = \"A\"\n",
    "    elif 7500 > T and T >= 6000:\n",
    "        type_star = \"F\"\n",
    "    elif 6000 > T and T >= 5000:\n",
    "        type_star = \"G\"\n",
    "    elif 5000 > T and T >= 3500:\n",
    "        type_star = \"K\"\n",
    "    elif 3500 > T and T >= 2500:\n",
    "        type_star = \"M\"\n",
    "    else:\n",
    "        type_star = \"Unclassified\"\n",
    "\n",
    "    fig, ax = plt.subplots(figsize=(12, 8))\n",
    "    ax.plot(planck_law(T)[0], planck_law(T)[1] , color = \"#005f99\", label = f\"Temperature: {T} (K)\")\n",
    "    ax.axvline(wien_law(T), ls = \"--\", color = \"#005f99\", label = f\"Max wavelength: {wien_law(T):.3e} (nm)\")\n",
    "    ax.plot([], [], ' ', label = rf\"Energy: {energy(T):.4e} (erg cm$^{{-2}}$ s$^{{-1}})$\")\n",
    "    ax.plot([], [], ' ', label = f\"Type star: {type_star}\")\n",
    "\n",
    "    ax.set_xlabel(r\"$\\mathrm{Wavelength} \\ (\\mathrm{nm})$\")\n",
    "    ax.set_ylabel(r\"$F_\\lambda \\ (\\mathrm{erg\\,s^{-1}\\,cm^{-2}\\,cm^{-1}})$\")\n",
    "    ax.grid()\n",
    "    ax.legend(fontsize = 12)\n",
    "    plt.show()"
   ]
  },
  {
   "cell_type": "code",
   "execution_count": 63,
   "id": "935f3836",
   "metadata": {},
   "outputs": [],
   "source": [
    "def plot_energy_in_a_range(T, lmbda1, lmbda2):\n",
    "\n",
    "    \"\"\" \n",
    "    Plots the black body spectrum  for a given temperature T, highlighting the wavelength range\n",
    "    of interest and displaying the fraction of energy emitted in that range.\n",
    "\n",
    "    PARAMETERS:\n",
    "\n",
    "        - T (float): Temperature of the black body in Kelvin.\n",
    "        - lmbda1 (float): Lower limit of the spectrum range (in nanometers).\n",
    "        - lmbda2 (float): Upper limit of the spectrum range (in nanometers).\n",
    "\n",
    "    Notes:\n",
    "\n",
    "        This function generates a plot of the spectral flux according to the Planck's law for a\n",
    "        given temperature T, highlighting the region between lmbda1 and lmbda2 with vertical lines.\n",
    "\n",
    "    Additionally:\n",
    "\n",
    "        - Displays the fraction of the total emitted flux within the defined range.\n",
    "        - Classifies the star approximately according its spectral type (O, B, A, F, G, K, M).\n",
    "        - Shades characteristic spectral bands:\n",
    "            Ultraviolet (UV), visible, Near infrared (NIR) and Mid infrared (MIR).\n",
    "\n",
    "    Units follows the CGS system:\n",
    "    \n",
    "        - Wavelength: nanometers (nm).\n",
    "        - Spectral flux: erg s⁻¹ cm⁻² cm⁻¹.\n",
    "    \"\"\"\n",
    "\n",
    "    if T >= 30000:\n",
    "        type_star = \"O\"\n",
    "    elif 30000 > T and T >= 10000:\n",
    "        type_star = \"B\"\n",
    "    elif 10000 > T and T >= 7500:\n",
    "        type_star = \"A\"\n",
    "    elif 7500 > T and T >= 6000:\n",
    "        type_star = \"F\"\n",
    "    elif 6000 > T and T >= 5000:\n",
    "        type_star = \"G\"\n",
    "    elif 5000 > T and T >= 3500:\n",
    "        type_star = \"K\"\n",
    "    elif 3500 > T and T >= 2500:\n",
    "        type_star = \"M\"\n",
    "    else:\n",
    "        type_star = \"Unclassified\"\n",
    "\n",
    "    fig, ax = plt.subplots(figsize=(12, 8))\n",
    "    ax.plot(planck_law(T)[0], planck_law(T)[1] , color = \"#005f99\", label = f\"Temperature: {T} (K)\")\n",
    "    ax.plot([], [], ' ', label=f\"Fraction of Energy: {percentage_energy(T, lmbda1, lmbda2)} %\")\n",
    "    ax.plot([], [], ' ', label=f\"Type star: {type_star}\")\n",
    "\n",
    "    ax.axvspan(10, 400, color='purple', alpha = 0.13)\n",
    "    ax.axvspan(400, 780, color='green', alpha = 0.13)\n",
    "    ax.axvspan(780, 2500, color='red', alpha = 0.13)\n",
    "    ax.axvspan(2500, 4000, color='red', alpha = 0.2)\n",
    "\n",
    "    ax.axvline(lmbda1, ls = \"--\", color = \"gray\")\n",
    "    ax.axvline(lmbda2, ls = \"--\", color = \"gray\")\n",
    "\n",
    "    ax.text(205, 0.45e6, \"UV\", ha='center', va='bottom', fontsize=15, alpha=0.8)\n",
    "    ax.text(590, 0.45e6, \"Visible\", ha='center', va='bottom', fontsize=15, alpha=0.8)\n",
    "    ax.text(1640, 0.45e6, \"NIR\", ha='center', va='bottom', fontsize=15, alpha=0.8)\n",
    "    ax.text(3250, 0.45e6, \"MIR\", ha='center', va='bottom', fontsize=15, alpha=0.8)\n",
    "\n",
    "    ax.set_xlabel(r\"$\\mathrm{Wavelength} \\ (\\mathrm{nm})$\")\n",
    "    ax.set_ylabel(r\"$F_\\lambda \\ (\\mathrm{erg\\,s^{-1}\\,cm^{-2}\\,cm^{-1}})$\")\n",
    "    ax.grid()\n",
    "    ax.legend(fontsize = 12)\n",
    "    plt.show()  "
   ]
  },
  {
   "cell_type": "code",
   "execution_count": 64,
   "id": "d1399566",
   "metadata": {},
   "outputs": [
    {
     "data": {
      "application/vnd.jupyter.widget-view+json": {
       "model_id": "987e5bd8e7c94396b600deb4cdd67da4",
       "version_major": 2,
       "version_minor": 0
      },
      "text/plain": [
       "interactive(children=(FloatSlider(value=3000.0, description='T (K)', layout=Layout(width='600px'), max=35000.0…"
      ]
     },
     "metadata": {},
     "output_type": "display_data"
    },
    {
     "data": {
      "text/plain": [
       "<function __main__.plot_by_temperature(T)>"
      ]
     },
     "execution_count": 64,
     "metadata": {},
     "output_type": "execute_result"
    }
   ],
   "source": [
    "widgets.interact(plot_by_temperature, T = widgets.FloatSlider(value=3000, min=500, max= 35000, step=1, description = \"T (K)\", layout={'width': '600px'}))"
   ]
  },
  {
   "cell_type": "code",
   "execution_count": 65,
   "id": "1109aa2b",
   "metadata": {},
   "outputs": [
    {
     "data": {
      "application/vnd.jupyter.widget-view+json": {
       "model_id": "d170b6c0276b4ee99de21f56c968121a",
       "version_major": 2,
       "version_minor": 0
      },
      "text/plain": [
       "interactive(children=(FloatSlider(value=3000.0, description='T (K)', layout=Layout(width='600px'), max=35000.0…"
      ]
     },
     "metadata": {},
     "output_type": "display_data"
    },
    {
     "data": {
      "text/plain": [
       "<function __main__.plot_energy_in_a_range(T, lmbda1, lmbda2)>"
      ]
     },
     "execution_count": 65,
     "metadata": {},
     "output_type": "execute_result"
    }
   ],
   "source": [
    "widgets.interact(plot_energy_in_a_range, T = widgets.FloatSlider(value=3000, min=500, max= 35000, step=1, description = \"T (K)\", layout={'width': '600px'}), \n",
    "         lmbda1 = widgets.FloatText(value=400, description='λ₁ (nm)'), \n",
    "         lmbda2 = widgets.FloatText(value=700, description='λ₂ (nm)'))"
   ]
  },
  {
   "cell_type": "code",
   "execution_count": 66,
   "id": "26c9eb39",
   "metadata": {},
   "outputs": [
    {
     "name": "stdout",
     "output_type": "stream",
     "text": [
      "Help on function planck_law in module __main__:\n",
      "\n",
      "planck_law(T)\n",
      "    Calculates the Planck distribution function, describing the radiation emitted\n",
      "    by a black body as a function of the wavelength and temperature, expressed in nanometers.\n",
      "    \n",
      "    PARAMETERS:\n",
      "        \n",
      "       T (float): Temperature of the black body in Kelvin\n",
      "    \n",
      "    RETURN:\n",
      "        tuple:\n",
      "    \n",
      "        - wavelength (np.ndarray): Array of wavelenghts in nanometers.\n",
      "        - planck_function_nm (np.ndarray): Spectral energy density (erg·s⁻¹·cm⁻²·nm⁻¹) for\n",
      "        each wavelength\n",
      "    \n",
      "    Note:\n",
      "    \n",
      "        The internal function is calculated in CGS units and then is converted to nanometers multiplying by 1e-7.\n",
      "\n"
     ]
    }
   ],
   "source": [
    "help(planck_law)"
   ]
  }
 ],
 "metadata": {
  "kernelspec": {
   "display_name": "base",
   "language": "python",
   "name": "python3"
  },
  "language_info": {
   "codemirror_mode": {
    "name": "ipython",
    "version": 3
   },
   "file_extension": ".py",
   "mimetype": "text/x-python",
   "name": "python",
   "nbconvert_exporter": "python",
   "pygments_lexer": "ipython3",
   "version": "3.8.8"
  }
 },
 "nbformat": 4,
 "nbformat_minor": 5
}
